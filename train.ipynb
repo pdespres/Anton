{
 "cells": [
  {
   "cell_type": "code",
   "execution_count": 16,
   "metadata": {},
   "outputs": [
    {
     "name": "stdout",
     "output_type": "stream",
     "text": [
      "(1986, 37) (1986, 1)\n"
     ]
    }
   ],
   "source": [
    "import pandas as pd\n",
    "import numpy as np\n",
    "from pathlib import Path\n",
    "\n",
    "# chargement des donnees + calcul baseline\n",
    "\n",
    "data_folder = Path('./')\n",
    "\n",
    "df = pd.read_csv(data_folder/'dataset.csv', dtype='int8')\n",
    "y = pd.read_csv(data_folder/'y.csv', dtype='int8')\n",
    "\n",
    "print(df.shape, y.shape)\n",
    "\n",
    "# baseline\n",
    "# print(y['0'].value_counts()[1])\n",
    "# 1 - (y['0'].value_counts()[1] / y['0'].value_counts()[0])"
   ]
  },
  {
   "cell_type": "code",
   "execution_count": 42,
   "metadata": {
    "scrolled": false
   },
   "outputs": [
    {
     "name": "stderr",
     "output_type": "stream",
     "text": [
      "C:\\Users\\Paul\\Anaconda3\\lib\\site-packages\\sklearn\\model_selection\\_split.py:605: Warning: The least populated class in y has only 1 members, which is too few. The minimum number of members in any class cannot be less than n_splits=3.\n",
      "  % (min_groups, self.n_splits)), Warning)\n"
     ]
    }
   ],
   "source": [
    "from sklearn.preprocessing import PolynomialFeatures\n",
    "from sklearn import linear_model\n",
    "from sklearn.model_selection import StratifiedKFold\n",
    "from sklearn.metrics import mean_squared_error\n",
    "\n",
    "cv = StratifiedKFold(n_splits=3, shuffle=True, random_state=42)\n",
    "\n",
    "for train_index, test_index in cv.split(df, y):\n",
    "    \n",
    "    poly = PolynomialFeatures(degree=3)\n",
    "    X_ = poly.fit_transform(df.iloc[train_index])\n",
    "    predict_ = poly.fit_transform(df.iloc[test_index])\n",
    "\n",
    "    clf = linear_model.LinearRegression()\n",
    "#     reg = clf.fit(df.iloc[train_index], y.iloc[train_index].values.ravel())\n",
    "    reg = clf.fit(X_, y.iloc[train_index].values.ravel())\n",
    "#     print(y.iloc[test_index].values.ravel())\n",
    "#     print(reg.predict(predict_))\n",
    "#     print(reg.predict(df.iloc[test_index]))\n",
    "#     print(reg.score(df.iloc[test_index], y.iloc[test_index].values.ravel()))\n",
    "#     print(mean_squared_error(y.iloc[test_index].values.ravel(), reg.predict(df.iloc[test_index])))"
   ]
  },
  {
   "cell_type": "code",
   "execution_count": 3,
   "metadata": {},
   "outputs": [
    {
     "name": "stderr",
     "output_type": "stream",
     "text": [
      "C:\\Users\\Paul\\Anaconda3\\lib\\site-packages\\sklearn\\ensemble\\weight_boosting.py:29: DeprecationWarning: numpy.core.umath_tests is an internal NumPy module and should not be imported. It will be removed in a future NumPy release.\n",
      "  from numpy.core.umath_tests import inner1d\n",
      "C:\\Users\\Paul\\Anaconda3\\lib\\site-packages\\sklearn\\model_selection\\_split.py:605: Warning: The least populated class in y has only 1 members, which is too few. The minimum number of members in any class cannot be less than n_splits=3.\n",
      "  % (min_groups, self.n_splits)), Warning)\n"
     ]
    },
    {
     "name": "stdout",
     "output_type": "stream",
     "text": [
      "1.6601962803954202\n",
      "1.6644622583702986\n",
      "1.416033569663452\n"
     ]
    }
   ],
   "source": [
    "from sklearn.model_selection import StratifiedKFold\n",
    "from sklearn.ensemble import RandomForestRegressor\n",
    "from sklearn.metrics import mean_squared_error\n",
    "\n",
    "cv = StratifiedKFold(n_splits=3, shuffle=True, random_state=42)\n",
    "regr = RandomForestRegressor(max_depth=9, random_state=42, n_estimators=400)\n",
    "\n",
    "for train_index, test_index in cv.split(df, y):\n",
    "    regr.fit(df.iloc[train_index], y.iloc[train_index].values.ravel())\n",
    "#     print(regr.score(df.iloc[test_index], y.iloc[test_index].values.ravel()))\n",
    "    print(mean_squared_error(y.iloc[test_index].values.ravel(), regr.predict(df.iloc[test_index])))"
   ]
  },
  {
   "cell_type": "code",
   "execution_count": 17,
   "metadata": {},
   "outputs": [
    {
     "name": "stdout",
     "output_type": "stream",
     "text": [
      "The Confusion Matrix is:  \n",
      " [[477  41]\n",
      " [ 88  57]]\n",
      "The Accuracy on Test Set is:  0.8054298642533937\n",
      "The Confusion Matrix is:  \n",
      " [[488  30]\n",
      " [ 92  52]]\n",
      "The Accuracy on Test Set is:  0.8157099697885196\n",
      "The Confusion Matrix is:  \n",
      " [[468  49]\n",
      " [ 86  58]]\n",
      "The Accuracy on Test Set is:  0.7957639939485628\n",
      "param=1 Accuracy 0.796\n"
     ]
    }
   ],
   "source": [
    "import xgboost as xgb\n",
    "from sklearn.metrics import roc_curve\n",
    "from sklearn.metrics import auc\n",
    "from sklearn.model_selection import StratifiedKFold\n",
    "from scipy import interp\n",
    "from sklearn.metrics import confusion_matrix\n",
    "import warnings\n",
    "warnings.filterwarnings('ignore')\n",
    "\n",
    "# training du xgboost\n",
    "\n",
    "#param_range = [0.001,0.01,0.1,1,10,100]\n",
    "param_range = [1]\n",
    "\n",
    "cv = StratifiedKFold(n_splits=3, shuffle=True, random_state=42)\n",
    "\n",
    "for i in param_range:\n",
    "    classifier = xgb.XGBClassifier(max_depth=7, n_estimators=500, learning_rate=0.01, silent=0, random_state=42)\n",
    "\n",
    "    acc = []\n",
    "    tprs = []\n",
    "    mean_fpr = np.linspace(0, 1, 100)\n",
    "\n",
    "    for train_index, test_index in cv.split(df, y):\n",
    "        model = classifier.fit(df.iloc[train_index], y.iloc[train_index].values.ravel())\n",
    "        y_hat = model.predict(df.iloc[test_index])\n",
    "        # Making the Confusion Matrix\n",
    "        cm = confusion_matrix(y.iloc[test_index], (y_hat>0.5))\n",
    "        print('The Confusion Matrix is: ','\\n', cm)\n",
    "        # Calculate the accuracy on test set\n",
    "        predict_accuracy_on_test_set = (cm[0,0] + cm[1,1])/(cm[0,0] + cm[1,1]+cm[1,0] + cm[0,1])\n",
    "        print('The Accuracy on Test Set is: ', predict_accuracy_on_test_set)\n",
    "        \n",
    "#         aucs.append(roc_auc)\n",
    "\n",
    "#     mean_tpr = np.mean(tprs, axis=0)\n",
    "#     mean_tpr[-1] = 1.0\n",
    "#     mean_auc = auc(mean_fpr, mean_tpr)\n",
    "    \n",
    "\n",
    "\n",
    "    print('param=%s Accuracy %0.3f' % (str(i), predict_accuracy_on_test_set))\n",
    "#     print(aucs)\n",
    "\n",
    "# The Confusion Matrix is:  \n",
    "#  [[488  30]\n",
    "#  [ 92  52]]\n",
    "# The Accuracy on Test Set is:  0.8157099697885196\n",
    "\n",
    "# The Confusion Matrix is:  \n",
    "#  [[581   9]\n",
    "#  [ 53  19]]\n",
    "# The Accuracy on Test Set is:  0.9063444108761329"
   ]
  },
  {
   "cell_type": "code",
   "execution_count": 18,
   "metadata": {},
   "outputs": [
    {
     "name": "stdout",
     "output_type": "stream",
     "text": [
      "param=0.08 Mean ROC (AUC = 0.798)\n",
      "[0.7982891758753828, 0.8102209352209353, 0.7854072641306684]\n"
     ]
    }
   ],
   "source": [
    "from sklearn.linear_model import LogisticRegression\n",
    "from sklearn.metrics import roc_curve\n",
    "from sklearn.metrics import auc\n",
    "from sklearn.model_selection import StratifiedKFold\n",
    "from scipy import interp\n",
    "\n",
    "#Mean ROC (AUC = 0.844) train_concat_90_00001\n",
    "#param_range = [0.001,0.01,0.1,1,10,100]\n",
    "#param_range = [0.001]\n",
    "param_range = [0.08]\n",
    "\n",
    "cv = StratifiedKFold(n_splits=3, shuffle=True, random_state=42)\n",
    "\n",
    "for i in param_range:\n",
    "    aucs = []\n",
    "    tprs = []\n",
    "    mean_fpr = np.linspace(0, 1, 100)\n",
    "\n",
    "    classifier = LogisticRegression(C=i, random_state=42)\n",
    "    #LogisticRegression(random_state=0, multi_class='multinomial', solver='newton-cg')\n",
    "    for train_index, test_index in cv.split(df, y):\n",
    "        model = classifier.fit(df.iloc[train_index], y.iloc[train_index].values.ravel())\n",
    "        if hasattr(model, \"predict_proba\"):\n",
    "            probas_ = model.predict_proba(df.iloc[test_index])[:, 1]\n",
    "        else:  # use decision function\n",
    "            probas_ = model.decision_function(df.iloc[test_index])\n",
    "        fpr, tpr, thresholds = roc_curve(y.iloc[test_index], probas_)\n",
    "        tprs.append(interp(mean_fpr, fpr, tpr))\n",
    "        tprs[-1][0] = 0.0\n",
    "        roc_auc = auc(fpr, tpr)\n",
    "        aucs.append(roc_auc)\n",
    "        \n",
    "    mean_tpr = np.mean(tprs, axis=0)\n",
    "    mean_tpr[-1] = 1.0\n",
    "    mean_auc = auc(mean_fpr, mean_tpr)\n",
    "\n",
    "    print('param=%s Mean ROC (AUC = %0.3f)' % (str(i), mean_auc))\n",
    "    print(aucs)"
   ]
  }
 ],
 "metadata": {
  "kernelspec": {
   "display_name": "Python 3",
   "language": "python",
   "name": "python3"
  },
  "language_info": {
   "codemirror_mode": {
    "name": "ipython",
    "version": 3
   },
   "file_extension": ".py",
   "mimetype": "text/x-python",
   "name": "python",
   "nbconvert_exporter": "python",
   "pygments_lexer": "ipython3",
   "version": "3.6.4"
  }
 },
 "nbformat": 4,
 "nbformat_minor": 2
}
